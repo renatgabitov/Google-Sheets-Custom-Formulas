{
  "cells": [
    {
      "cell_type": "markdown",
      "metadata": {
        "id": "view-in-github",
        "colab_type": "text"
      },
      "source": [
        "<a href=\"https://colab.research.google.com/github/renatgabitov/Google-Sheets-Custom-Formulas/blob/main/Transcribe_Videos_Represent.ipynb\" target=\"_parent\"><img src=\"https://colab.research.google.com/assets/colab-badge.svg\" alt=\"Open In Colab\"/></a>"
      ]
    },
    {
      "cell_type": "markdown",
      "metadata": {
        "id": "yW8B6NCZi3fb"
      },
      "source": [
        "# Set Up\n",
        "\n",
        "[Watch tutorial](https://youtu.be/_RUhxtGG83c)\n",
        "\n",
        "Created by Renat Gabitov from [Represent](https://www.representstudio.com)."
      ]
    },
    {
      "cell_type": "code",
      "source": [
        "# Access Your Google Drive\n",
        "\n",
        "from google.colab import drive\n",
        "drive.mount('/content/drive')"
      ],
      "metadata": {
        "id": "9xE548KbjLWS"
      },
      "execution_count": null,
      "outputs": []
    },
    {
      "cell_type": "code",
      "execution_count": null,
      "metadata": {
        "id": "ewj8g_uBi3fd"
      },
      "outputs": [],
      "source": [
        "!pip install assemblyai\n",
        "import assemblyai as aai"
      ]
    },
    {
      "cell_type": "code",
      "execution_count": null,
      "metadata": {
        "id": "n0s8l50Hi3fe"
      },
      "outputs": [],
      "source": [
        "# Add the API key.\n",
        "aai.settings.api_key = 'XXXXXX_API_KEY_XXXXXXX'"
      ]
    },
    {
      "cell_type": "code",
      "execution_count": null,
      "metadata": {
        "id": "xj4XLbj3i3ff"
      },
      "outputs": [],
      "source": [
        "# Enter the file path below.\n",
        "file_path = \"XXXXXX_FILE_URL_XXXXXX\"\n"
      ]
    },
    {
      "cell_type": "markdown",
      "metadata": {
        "id": "FzhZZ1F4i3ff"
      },
      "source": [
        "## File Naming"
      ]
    },
    {
      "cell_type": "code",
      "execution_count": null,
      "metadata": {
        "id": "yJ4IILGoi3ff"
      },
      "outputs": [],
      "source": [
        "# Extract the filename from the input path\n",
        "filename = file_path.split('/')[-1]\n",
        "\n",
        "# Remove the file extension (everything after the last '.')\n",
        "clean_filename = filename.rsplit('.', 1)[0]\n",
        "\n",
        "# Get file extension\n",
        "file_extension = filename.rsplit('.',1)[1]\n",
        "print(file_extension)\n",
        "\n",
        "# Get file folder\n",
        "file_folder = file_path.split(filename)[0]\n",
        "\n",
        "# Create the file naming structure\n",
        "def create_filename(base_name, extension):\n",
        "\n",
        "    # Create the final name structure\n",
        "    final_name = f\"{base_name} {clean_filename}{extension}\"\n",
        "\n",
        "    return final_name\n",
        "\n",
        "print(create_filename(\"Base Name Example: \", \".txt\"))"
      ]
    },
    {
      "cell_type": "markdown",
      "metadata": {
        "id": "Hyyc_e4di3fg"
      },
      "source": [
        "## Speed up file processing"
      ]
    },
    {
      "cell_type": "code",
      "execution_count": null,
      "metadata": {
        "id": "LnhVnZ2Vi3fg"
      },
      "outputs": [],
      "source": [
        "# Convert video to audio to speed up upload\n",
        "\n",
        "\n",
        "def extract_audio(original_file_path):\n",
        "    # Install packages to conver audio\n",
        "    !pip install ffmpeg\n",
        "\n",
        "    import ffmpeg\n",
        "    import subprocess\n",
        "\n",
        "    # New file path\n",
        "    global file_path\n",
        "    file_path = original_file_path.rsplit('.',1)[0] + '.mp3'\n",
        "\n",
        "    # Extract audio in MP3 format\n",
        "    command = f\"ffmpeg -i \\\"{original_file_path}\\\" -vn -ar 44100 -ac 2 -ab 48k -f mp3 \\\"{file_path}\\\"\"\n",
        "\n",
        "    try:\n",
        "        # Execute the ffmpeg command\n",
        "        subprocess.run(command, shell=True, check=True)\n",
        "        print(f\"Audio extracted successfully! \\n New File Path: {file_path}\")\n",
        "\n",
        "    except subprocess.CalledProcessError as e:\n",
        "        # Handle errors in the subprocess\n",
        "        print(f\"An error occurred: {e}\")\n",
        "\n",
        "video_formats = ['mp4', 'mov', 'webm']\n",
        "\n",
        "if file_extension.lower() in video_formats:\n",
        "    extract_audio(file_path)"
      ]
    },
    {
      "cell_type": "markdown",
      "metadata": {
        "id": "aua3uvX3i3fg"
      },
      "source": [
        "# Transcription"
      ]
    },
    {
      "cell_type": "code",
      "execution_count": null,
      "metadata": {
        "id": "HNeijMm5i3fh"
      },
      "outputs": [],
      "source": [
        "# Transcription settings\n",
        "\n",
        "# Set general settings\n",
        "config_general = {\n",
        "    \"language_code\": \"en\", #specify language\n",
        "    \"speaker_labels\": True, #identifies speakers\n",
        "    \"entity_detection\": True, #entity detection\n",
        "    \"iab_categories\": True, #topic detection\n",
        "    \"auto_chapters\": True, #chapter detection\n",
        "    \"word_boost\": [\"aws\", \"azure\", \"google cloud\"], #boost words for higher transcription accuracy\n",
        "    \"boost_param\": \"high\"\n",
        "}\n",
        "\n",
        "config = aai.TranscriptionConfig(**config_general)\n",
        "\n",
        "# Set custom spelling\n",
        "config.set_custom_spelling(\n",
        "  {\n",
        "    # Format: Correct spelling | Common misspelling\n",
        "    \"OpenAI\": [\"open ai\"],\n",
        "    \"GPT-4\": [\"gpt four\"]\n",
        "  }\n",
        ")\n",
        "\n",
        "# Initialize transcriber with the settings above\n",
        "transcriber = aai.Transcriber(config=config)"
      ]
    },
    {
      "cell_type": "markdown",
      "metadata": {
        "id": "puuMVz42i3fh"
      },
      "source": [
        "# Transcribe"
      ]
    },
    {
      "cell_type": "code",
      "execution_count": null,
      "metadata": {
        "id": "0bhf7vYYi3fh"
      },
      "outputs": [],
      "source": [
        "# Transcribe\n",
        "\n",
        "transcript = transcriber.transcribe(file_path)\n",
        "\n",
        "print(\"Transcription is complete.\")"
      ]
    },
    {
      "cell_type": "markdown",
      "metadata": {
        "id": "Ut2URT0Ti3fi"
      },
      "source": [
        "## Save a spreadsheet with breakdown by sentence"
      ]
    },
    {
      "cell_type": "code",
      "execution_count": null,
      "metadata": {
        "id": "6kwqltO-i3fi"
      },
      "outputs": [],
      "source": [
        "import csv\n",
        "\n",
        "# Function to convert milliseconds to seconds format\n",
        "def milliseconds_to_seconds(milliseconds):\n",
        "    hours, remainder = divmod(milliseconds, 3600000)\n",
        "    minutes, remainder = divmod(remainder, 60000)\n",
        "    seconds, milliseconds = divmod(remainder, 1000)\n",
        "    return f\"{hours:02}:{minutes:02}:{seconds:02}\"\n",
        "\n",
        "# Define the CSV file name\n",
        "csv_file_name = file_folder + create_filename(\"Sentences: \", \".csv\")\n",
        "\n",
        "# Open the CSV file for writing\n",
        "with open(csv_file_name, 'w', newline='') as csvfile:\n",
        "    # Create a CSV writer object\n",
        "    csvwriter = csv.writer(csvfile)\n",
        "\n",
        "    # Write the header row\n",
        "    csvwriter.writerow(['Start Time', 'End Time', 'Speaker', 'Text'])\n",
        "\n",
        "    # Iterate over each sentence and write a row for each\n",
        "    for utterance in transcript.utterances:\n",
        "        start_srt = milliseconds_to_seconds(int(utterance.start))\n",
        "        end_srt = milliseconds_to_seconds(int(utterance.end))\n",
        "        speaker = 'Speaker ' + utterance.speaker\n",
        "        text = utterance.text\n",
        "\n",
        "        # Write the sentence row to the CSV\n",
        "        csvwriter.writerow([start_srt, end_srt, speaker, text])\n"
      ]
    },
    {
      "cell_type": "markdown",
      "metadata": {
        "id": "6B9MGXDZi3fi"
      },
      "source": [
        "## Save text-only transcript"
      ]
    },
    {
      "cell_type": "code",
      "execution_count": null,
      "metadata": {
        "id": "OtXY_Bhyi3fi"
      },
      "outputs": [],
      "source": [
        "paragraphs = transcript.get_paragraphs()\n",
        "\n",
        "full_transcript = \"\\n\\n\".join(paragraph.text for paragraph in paragraphs)\n",
        "\n",
        "# Save the the transcript\n",
        "\n",
        "transcript_file_name = file_folder + create_filename(\"Transcript \",\".txt\")\n",
        "\n",
        "with open(transcript_file_name, 'w') as file:\n",
        "    file.write(full_transcript)\n"
      ]
    },
    {
      "cell_type": "markdown",
      "metadata": {
        "id": "X9_udTCBi3fj"
      },
      "source": [
        "## Save Subtitles"
      ]
    },
    {
      "cell_type": "code",
      "execution_count": null,
      "metadata": {
        "id": "R36-JAFci3fj"
      },
      "outputs": [],
      "source": [
        "\n",
        "srt = transcript.export_subtitles_srt(chars_per_caption=32)\n",
        "\n",
        "subtitles_file_name = file_folder + create_filename(\"Subtitles: \", \".srt\")\n",
        "\n",
        "# Save the subtitle file\n",
        "with open(subtitles_file_name, 'w') as file:\n",
        "    file.write(srt)"
      ]
    },
    {
      "cell_type": "markdown",
      "metadata": {
        "id": "yNdN_igWi3fj"
      },
      "source": [
        "## Save Chapters"
      ]
    },
    {
      "cell_type": "code",
      "execution_count": null,
      "metadata": {
        "id": "orkkPitai3fj"
      },
      "outputs": [],
      "source": [
        "chapters = transcript.chapters\n",
        "chapter_strings = []\n",
        "i = 0\n",
        "\n",
        "chapters_file_name = file_folder + create_filename(\"Chapters \", \".txt\")\n",
        "\n",
        "# Get general chapter titles\n",
        "for chapter in transcript.chapters:\n",
        "    chapter_title = chapter.gist\n",
        "    chapter_start = milliseconds_to_seconds(chapter.start)\n",
        "\n",
        "    chapter_strings.append(f\"{chapter_start} - {chapter_title}\")\n",
        "\n",
        "chapter_strings.append(\"\\n\\n\")\n",
        "\n",
        "# Get summaries\n",
        "for chapter in transcript.chapters:\n",
        "    i += 1\n",
        "    chapter_title = chapter.gist\n",
        "    chapter_time = milliseconds_to_seconds(chapter.start) + \" --> \" + milliseconds_to_seconds(chapter.end)\n",
        "    chapter_summary = chapter.summary\n",
        "\n",
        "    chapter_strings.append(f\"#{i} {chapter_title}\\n{chapter_time}\\n{chapter_summary} \\n\\n\")\n",
        "\n",
        "full_chapters = \"\\n\".join(chapter_strings)\n",
        "\n",
        "with open(chapters_file_name, 'w') as file:\n",
        "    file.write(full_chapters)"
      ]
    }
  ],
  "metadata": {
    "kernelspec": {
      "display_name": "Python 3",
      "language": "python",
      "name": "python3"
    },
    "language_info": {
      "codemirror_mode": {
        "name": "ipython",
        "version": 3
      },
      "file_extension": ".py",
      "mimetype": "text/x-python",
      "name": "python",
      "nbconvert_exporter": "python",
      "pygments_lexer": "ipython3",
      "version": "3.11.3"
    },
    "colab": {
      "provenance": [],
      "include_colab_link": true
    }
  },
  "nbformat": 4,
  "nbformat_minor": 0
}